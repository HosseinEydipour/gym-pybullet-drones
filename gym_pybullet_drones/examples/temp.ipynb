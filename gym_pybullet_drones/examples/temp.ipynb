{
 "cells": [
  {
   "cell_type": "code",
   "execution_count": 1,
   "id": "172cead5",
   "metadata": {},
   "outputs": [],
   "source": [
    "from gym_pybullet_drones.utils.enums import ObservationType, ActionType"
   ]
  },
  {
   "cell_type": "code",
   "execution_count": 2,
   "id": "f6ff5a55",
   "metadata": {},
   "outputs": [],
   "source": [
    "DEFAULT_OBS = ObservationType('kin') # 'kin' or 'rgb'\n",
    "DEFAULT_ACT = ActionType('one_d_rpm') # 'rpm' or 'pid' or 'vel' or 'one_d_rpm' or 'one_d_pid'"
   ]
  },
  {
   "cell_type": "code",
   "execution_count": 3,
   "id": "7e473ed8",
   "metadata": {},
   "outputs": [
    {
     "data": {
      "text/plain": [
       "<ActionType.ONE_D_RPM: 'one_d_rpm'>"
      ]
     },
     "execution_count": 3,
     "metadata": {},
     "output_type": "execute_result"
    }
   ],
   "source": [
    "DEFAULT_ACT"
   ]
  },
  {
   "cell_type": "code",
   "execution_count": 8,
   "id": "89bd7582",
   "metadata": {},
   "outputs": [
    {
     "data": {
      "text/plain": [
       "<ObservationType.KIN: 'kin'>"
      ]
     },
     "execution_count": 8,
     "metadata": {},
     "output_type": "execute_result"
    }
   ],
   "source": [
    "DEFAULT_OBS"
   ]
  },
  {
   "cell_type": "code",
   "execution_count": 27,
   "id": "66785cec",
   "metadata": {},
   "outputs": [
    {
     "name": "stdout",
     "output_type": "stream",
     "text": [
      "0,1,2,3,"
     ]
    }
   ],
   "source": [
    "for i in range(4):\n",
    "    print(i, end=\",\")"
   ]
  },
  {
   "cell_type": "code",
   "execution_count": 12,
   "id": "6edaeac5",
   "metadata": {},
   "outputs": [],
   "source": [
    "import numpy as np"
   ]
  },
  {
   "cell_type": "code",
   "execution_count": 17,
   "id": "15ae3bbf",
   "metadata": {},
   "outputs": [],
   "source": [
    "NUM_DRONES = 5\n",
    "NEIGHBOURHOOD_RADIUS = 30"
   ]
  },
  {
   "cell_type": "code",
   "execution_count": 25,
   "id": "ba54a94d",
   "metadata": {},
   "outputs": [],
   "source": [
    "def _getAdjacencyMatrix():\n",
    "        \"\"\"Computes the adjacency matrix of a multi-drone system.\n",
    "\n",
    "        Attribute NEIGHBOURHOOD_RADIUS is used to determine neighboring relationships.\n",
    "\n",
    "        Returns\n",
    "        -------\n",
    "        ndarray\n",
    "            (NUM_DRONES, NUM_DRONES)-shaped array of 0's and 1's representing the adjacency matrix \n",
    "            of the system: adj_mat[i,j] == 1 if (i, j) are neighbors; == 0 otherwise.\n",
    "\n",
    "        \"\"\"\n",
    "        adjacency_mat = np.identity(NUM_DRONES)\n",
    "        for i in range(NUM_DRONES-1):\n",
    "            for j in range(NUM_DRONES-i-1):\n",
    "                # print((i,j), end=\",\")\n",
    "                if True: #np.linalg.norm(pos[i, :]-pos[j+i+1, :]) < NEIGHBOURHOOD_RADIUS:\n",
    "                    adjacency_mat[i, j+i+1] = adjacency_mat[j+i+1, i] = 1\n",
    "        print(adjacency_mat)\n",
    "        return True #adjacency_mat"
   ]
  },
  {
   "cell_type": "code",
   "execution_count": 26,
   "id": "7050a398",
   "metadata": {},
   "outputs": [
    {
     "name": "stdout",
     "output_type": "stream",
     "text": [
      "[[1. 1. 1. 1. 1.]\n",
      " [1. 1. 1. 1. 1.]\n",
      " [1. 1. 1. 1. 1.]\n",
      " [1. 1. 1. 1. 1.]\n",
      " [1. 1. 1. 1. 1.]]\n"
     ]
    },
    {
     "data": {
      "text/plain": [
       "True"
      ]
     },
     "execution_count": 26,
     "metadata": {},
     "output_type": "execute_result"
    }
   ],
   "source": [
    "_getAdjacencyMatrix()"
   ]
  },
  {
   "cell_type": "code",
   "execution_count": 22,
   "id": "4fc91914",
   "metadata": {},
   "outputs": [
    {
     "data": {
      "text/plain": [
       "array([[1., 0., 0., 0., 0.],\n",
       "       [0., 1., 0., 0., 0.],\n",
       "       [0., 0., 1., 0., 0.],\n",
       "       [0., 0., 0., 1., 0.],\n",
       "       [0., 0., 0., 0., 1.]])"
      ]
     },
     "execution_count": 22,
     "metadata": {},
     "output_type": "execute_result"
    }
   ],
   "source": [
    "np.identity(5)"
   ]
  }
 ],
 "metadata": {
  "kernelspec": {
   "display_name": "drones",
   "language": "python",
   "name": "python3"
  },
  "language_info": {
   "codemirror_mode": {
    "name": "ipython",
    "version": 3
   },
   "file_extension": ".py",
   "mimetype": "text/x-python",
   "name": "python",
   "nbconvert_exporter": "python",
   "pygments_lexer": "ipython3",
   "version": "3.12.3"
  }
 },
 "nbformat": 4,
 "nbformat_minor": 5
}
